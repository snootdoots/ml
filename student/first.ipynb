{
 "cells": [
  {
   "cell_type": "code",
   "execution_count": 1,
   "id": "a7b6f454",
   "metadata": {},
   "outputs": [
    {
     "name": "stderr",
     "output_type": "stream",
     "text": [
      "/Users/davidren/eecs/ml/student/env/lib/python3.13/site-packages/tqdm/auto.py:21: TqdmWarning: IProgress not found. Please update jupyter and ipywidgets. See https://ipywidgets.readthedocs.io/en/stable/user_install.html\n",
      "  from .autonotebook import tqdm as notebook_tqdm\n"
     ]
    },
    {
     "name": "stdout",
     "output_type": "stream",
     "text": [
      "Downloading from https://www.kaggle.com/api/v1/datasets/download/therohithanand/student-academic-performance-dataset?dataset_version_number=1...\n"
     ]
    },
    {
     "name": "stderr",
     "output_type": "stream",
     "text": [
      "100%|██████████| 33.5k/33.5k [00:00<00:00, 28.1MB/s]"
     ]
    },
    {
     "name": "stdout",
     "output_type": "stream",
     "text": [
      "Extracting files...\n",
      "Path to dataset files: /Users/davidren/.cache/kagglehub/datasets/therohithanand/student-academic-performance-dataset/versions/1\n"
     ]
    },
    {
     "name": "stderr",
     "output_type": "stream",
     "text": [
      "\n"
     ]
    }
   ],
   "source": [
    "import kagglehub\n",
    "\n",
    "# Download latest version\n",
    "path = kagglehub.dataset_download(\"therohithanand/student-academic-performance-dataset\")\n",
    "\n",
    "print(\"Path to dataset files:\", path)"
   ]
  },
  {
   "cell_type": "code",
   "execution_count": 2,
   "id": "6ac71f00",
   "metadata": {},
   "outputs": [],
   "source": [
    "import pandas as pd"
   ]
  },
  {
   "cell_type": "code",
   "execution_count": 10,
   "id": "8c8b92a2",
   "metadata": {},
   "outputs": [],
   "source": [
    "df = pd.read_csv(path + \"/student_info.csv\")"
   ]
  },
  {
   "cell_type": "code",
   "execution_count": 12,
   "id": "14770066",
   "metadata": {},
   "outputs": [
    {
     "data": {
      "text/html": [
       "<div>\n",
       "<style scoped>\n",
       "    .dataframe tbody tr th:only-of-type {\n",
       "        vertical-align: middle;\n",
       "    }\n",
       "\n",
       "    .dataframe tbody tr th {\n",
       "        vertical-align: top;\n",
       "    }\n",
       "\n",
       "    .dataframe thead th {\n",
       "        text-align: right;\n",
       "    }\n",
       "</style>\n",
       "<table border=\"1\" class=\"dataframe\">\n",
       "  <thead>\n",
       "    <tr style=\"text-align: right;\">\n",
       "      <th></th>\n",
       "      <th>student_id</th>\n",
       "      <th>name</th>\n",
       "      <th>gender</th>\n",
       "      <th>age</th>\n",
       "      <th>grade_level</th>\n",
       "      <th>math_score</th>\n",
       "      <th>reading_score</th>\n",
       "      <th>writing_score</th>\n",
       "      <th>attendance_rate</th>\n",
       "      <th>parent_education</th>\n",
       "      <th>study_hours</th>\n",
       "      <th>internet_access</th>\n",
       "      <th>lunch_type</th>\n",
       "      <th>extra_activities</th>\n",
       "      <th>final_result</th>\n",
       "    </tr>\n",
       "  </thead>\n",
       "  <tbody>\n",
       "    <tr>\n",
       "      <th>0</th>\n",
       "      <td>S1</td>\n",
       "      <td>1</td>\n",
       "      <td>Other</td>\n",
       "      <td>17</td>\n",
       "      <td>10</td>\n",
       "      <td>74</td>\n",
       "      <td>61</td>\n",
       "      <td>90</td>\n",
       "      <td>94.660002</td>\n",
       "      <td>Master's</td>\n",
       "      <td>4.120192</td>\n",
       "      <td>Yes</td>\n",
       "      <td>Free or reduced</td>\n",
       "      <td>Yes</td>\n",
       "      <td>Fail</td>\n",
       "    </tr>\n",
       "    <tr>\n",
       "      <th>1</th>\n",
       "      <td>S2</td>\n",
       "      <td>2</td>\n",
       "      <td>Male</td>\n",
       "      <td>17</td>\n",
       "      <td>12</td>\n",
       "      <td>99</td>\n",
       "      <td>70</td>\n",
       "      <td>91</td>\n",
       "      <td>93.173227</td>\n",
       "      <td>Bachelor's</td>\n",
       "      <td>2.886505</td>\n",
       "      <td>No</td>\n",
       "      <td>Free or reduced</td>\n",
       "      <td>No</td>\n",
       "      <td>Pass</td>\n",
       "    </tr>\n",
       "    <tr>\n",
       "      <th>2</th>\n",
       "      <td>S3</td>\n",
       "      <td>3</td>\n",
       "      <td>Other</td>\n",
       "      <td>17</td>\n",
       "      <td>9</td>\n",
       "      <td>59</td>\n",
       "      <td>60</td>\n",
       "      <td>99</td>\n",
       "      <td>98.631098</td>\n",
       "      <td>PhD</td>\n",
       "      <td>1.909926</td>\n",
       "      <td>No</td>\n",
       "      <td>Free or reduced</td>\n",
       "      <td>No</td>\n",
       "      <td>Fail</td>\n",
       "    </tr>\n",
       "    <tr>\n",
       "      <th>3</th>\n",
       "      <td>S4</td>\n",
       "      <td>4</td>\n",
       "      <td>Other</td>\n",
       "      <td>17</td>\n",
       "      <td>12</td>\n",
       "      <td>70</td>\n",
       "      <td>88</td>\n",
       "      <td>69</td>\n",
       "      <td>96.419620</td>\n",
       "      <td>PhD</td>\n",
       "      <td>1.664740</td>\n",
       "      <td>No</td>\n",
       "      <td>Standard</td>\n",
       "      <td>No</td>\n",
       "      <td>Pass</td>\n",
       "    </tr>\n",
       "    <tr>\n",
       "      <th>4</th>\n",
       "      <td>S5</td>\n",
       "      <td>5</td>\n",
       "      <td>Male</td>\n",
       "      <td>15</td>\n",
       "      <td>9</td>\n",
       "      <td>85</td>\n",
       "      <td>77</td>\n",
       "      <td>94</td>\n",
       "      <td>91.332105</td>\n",
       "      <td>PhD</td>\n",
       "      <td>2.330918</td>\n",
       "      <td>Yes</td>\n",
       "      <td>Free or reduced</td>\n",
       "      <td>No</td>\n",
       "      <td>Pass</td>\n",
       "    </tr>\n",
       "  </tbody>\n",
       "</table>\n",
       "</div>"
      ],
      "text/plain": [
       "  student_id  name gender  age  grade_level  math_score  reading_score  \\\n",
       "0         S1     1  Other   17           10          74             61   \n",
       "1         S2     2   Male   17           12          99             70   \n",
       "2         S3     3  Other   17            9          59             60   \n",
       "3         S4     4  Other   17           12          70             88   \n",
       "4         S5     5   Male   15            9          85             77   \n",
       "\n",
       "   writing_score  attendance_rate parent_education  study_hours  \\\n",
       "0             90        94.660002         Master's     4.120192   \n",
       "1             91        93.173227       Bachelor's     2.886505   \n",
       "2             99        98.631098              PhD     1.909926   \n",
       "3             69        96.419620              PhD     1.664740   \n",
       "4             94        91.332105              PhD     2.330918   \n",
       "\n",
       "  internet_access       lunch_type extra_activities final_result  \n",
       "0             Yes  Free or reduced              Yes         Fail  \n",
       "1              No  Free or reduced               No         Pass  \n",
       "2              No  Free or reduced               No         Fail  \n",
       "3              No         Standard               No         Pass  \n",
       "4             Yes  Free or reduced               No         Pass  "
      ]
     },
     "execution_count": 12,
     "metadata": {},
     "output_type": "execute_result"
    }
   ],
   "source": [
    "df['name'] = df['name'].str[-1].astype(int)\n",
    "df.head()"
   ]
  }
 ],
 "metadata": {
  "kernelspec": {
   "display_name": "env",
   "language": "python",
   "name": "python3"
  },
  "language_info": {
   "codemirror_mode": {
    "name": "ipython",
    "version": 3
   },
   "file_extension": ".py",
   "mimetype": "text/x-python",
   "name": "python",
   "nbconvert_exporter": "python",
   "pygments_lexer": "ipython3",
   "version": "3.13.3"
  }
 },
 "nbformat": 4,
 "nbformat_minor": 5
}
