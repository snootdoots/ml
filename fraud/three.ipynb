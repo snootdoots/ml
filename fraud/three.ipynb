{
 "cells": [
  {
   "cell_type": "code",
   "execution_count": 1,
   "id": "88988cd3",
   "metadata": {},
   "outputs": [
    {
     "name": "stdout",
     "output_type": "stream",
     "text": [
      "   accountAgeDays  numItems  localTime paymentMethod  paymentMethodAgeDays  \\\n",
      "0              29         1   4.745402        paypal             28.204861   \n",
      "1             725         1   4.742303   storecredit              0.000000   \n",
      "2             845         1   4.921318    creditcard              0.000000   \n",
      "3             503         1   4.886641    creditcard              0.000000   \n",
      "4            2000         1   5.040929    creditcard              0.000000   \n",
      "\n",
      "      Category  isWeekend  label  \n",
      "0     shopping        0.0      0  \n",
      "1  electronics        0.0      0  \n",
      "2         food        1.0      0  \n",
      "3  electronics        1.0      0  \n",
      "4     shopping        0.0      0  \n"
     ]
    }
   ],
   "source": [
    "import pandas as pd\n",
    "df = pd.read_csv('payment_fraud.csv')\n",
    "print(df.head())"
   ]
  },
  {
   "cell_type": "code",
   "execution_count": null,
   "id": "f174afa8",
   "metadata": {},
   "outputs": [],
   "source": [
    "import matplotlib as plt"
   ]
  }
 ],
 "metadata": {
  "kernelspec": {
   "display_name": "fraud",
   "language": "python",
   "name": "python3"
  },
  "language_info": {
   "codemirror_mode": {
    "name": "ipython",
    "version": 3
   },
   "file_extension": ".py",
   "mimetype": "text/x-python",
   "name": "python",
   "nbconvert_exporter": "python",
   "pygments_lexer": "ipython3",
   "version": "3.13.5"
  }
 },
 "nbformat": 4,
 "nbformat_minor": 5
}
